{
 "cells": [
  {
   "cell_type": "markdown",
   "id": "15ff457b",
   "metadata": {},
   "source": [
    "# Capstone_Project"
   ]
  },
  {
   "cell_type": "raw",
   "id": "fbc71ae8",
   "metadata": {},
   "source": [
    "A brief understanding of the HR industry :\n",
    "\n",
    "Human resources (HR) is the division of an organization that is responsible for finding, screening, recruiting, and training job applicants, and administering employee-benefit programs.\n",
    "\n",
    "This management is the strategic approach to the efficient management of people in any organization in a way that can help their business gain a competitive advantage. It is designed to improve employee performance in service of an employer's strategic objectives."
   ]
  },
  {
   "cell_type": "markdown",
   "id": "8c074670",
   "metadata": {},
   "source": [
    "### Problem Statement On HR Analytics : How \"salary\" is varying with respect to other considerable factors."
   ]
  },
  {
   "cell_type": "code",
   "execution_count": 170,
   "id": "e5cbd041",
   "metadata": {
    "scrolled": false
   },
   "outputs": [],
   "source": [
    "#importing libraries for data analysis and manipulation\n",
    "\n",
    "import numpy as np\n",
    "\n",
    "import pandas as pd\n",
    "\n",
    "import matplotlib.pyplot as plt \n",
    "\n",
    "%matplotlib inline\n",
    "\n",
    "import seaborn as sns\n",
    "\n",
    "from sklearn import preprocessing"
   ]
  },
  {
   "cell_type": "code",
   "execution_count": 171,
   "id": "4eafc5f9",
   "metadata": {
    "scrolled": false
   },
   "outputs": [
    {
     "data": {
      "text/html": [
       "<div>\n",
       "<style scoped>\n",
       "    .dataframe tbody tr th:only-of-type {\n",
       "        vertical-align: middle;\n",
       "    }\n",
       "\n",
       "    .dataframe tbody tr th {\n",
       "        vertical-align: top;\n",
       "    }\n",
       "\n",
       "    .dataframe thead th {\n",
       "        text-align: right;\n",
       "    }\n",
       "</style>\n",
       "<table border=\"1\" class=\"dataframe\">\n",
       "  <thead>\n",
       "    <tr style=\"text-align: right;\">\n",
       "      <th></th>\n",
       "      <th>Gender</th>\n",
       "      <th>Business</th>\n",
       "      <th>Dependancies</th>\n",
       "      <th>Calls</th>\n",
       "      <th>Type</th>\n",
       "      <th>Billing</th>\n",
       "      <th>Rating</th>\n",
       "      <th>Age</th>\n",
       "      <th>Salary</th>\n",
       "      <th>Base_pay</th>\n",
       "      <th>Bonus</th>\n",
       "      <th>Unit_Price</th>\n",
       "      <th>Volume</th>\n",
       "      <th>openingbalance</th>\n",
       "      <th>closingbalance</th>\n",
       "      <th>low</th>\n",
       "      <th>Unit_Sales</th>\n",
       "      <th>Total_Sales</th>\n",
       "      <th>Months</th>\n",
       "      <th>Education</th>\n",
       "    </tr>\n",
       "  </thead>\n",
       "  <tbody>\n",
       "    <tr>\n",
       "      <th>0</th>\n",
       "      <td>Female</td>\n",
       "      <td>0</td>\n",
       "      <td>No</td>\n",
       "      <td>Yes</td>\n",
       "      <td>Month-to-month</td>\n",
       "      <td>No</td>\n",
       "      <td>Yes</td>\n",
       "      <td>18</td>\n",
       "      <td>5089.00</td>\n",
       "      <td>2035.600</td>\n",
       "      <td>254.4500</td>\n",
       "      <td>3.77</td>\n",
       "      <td>21226600</td>\n",
       "      <td>3.75</td>\n",
       "      <td>3.76</td>\n",
       "      <td>3.65</td>\n",
       "      <td>18.25</td>\n",
       "      <td>18.8</td>\n",
       "      <td>0</td>\n",
       "      <td>High School or less</td>\n",
       "    </tr>\n",
       "    <tr>\n",
       "      <th>1</th>\n",
       "      <td>Female</td>\n",
       "      <td>0</td>\n",
       "      <td>No</td>\n",
       "      <td>Yes</td>\n",
       "      <td>Month-to-month</td>\n",
       "      <td>No</td>\n",
       "      <td>Yes</td>\n",
       "      <td>19</td>\n",
       "      <td>5698.12</td>\n",
       "      <td>2279.248</td>\n",
       "      <td>284.9060</td>\n",
       "      <td>3.74</td>\n",
       "      <td>10462800</td>\n",
       "      <td>3.85</td>\n",
       "      <td>3.68</td>\n",
       "      <td>3.65</td>\n",
       "      <td>18.40</td>\n",
       "      <td>18.85</td>\n",
       "      <td>0</td>\n",
       "      <td>High School or less</td>\n",
       "    </tr>\n",
       "    <tr>\n",
       "      <th>2</th>\n",
       "      <td>Male</td>\n",
       "      <td>0</td>\n",
       "      <td>No</td>\n",
       "      <td>Yes</td>\n",
       "      <td>Month-to-month</td>\n",
       "      <td>Yes</td>\n",
       "      <td>No</td>\n",
       "      <td>22</td>\n",
       "      <td>5896.65</td>\n",
       "      <td>2358.660</td>\n",
       "      <td>294.8325</td>\n",
       "      <td>3.89</td>\n",
       "      <td>18761000</td>\n",
       "      <td>4.23</td>\n",
       "      <td>4.29</td>\n",
       "      <td>3.72</td>\n",
       "      <td>18.70</td>\n",
       "      <td>18.9</td>\n",
       "      <td>0</td>\n",
       "      <td>High School or less</td>\n",
       "    </tr>\n",
       "    <tr>\n",
       "      <th>3</th>\n",
       "      <td>Female</td>\n",
       "      <td>1</td>\n",
       "      <td>No</td>\n",
       "      <td>Yes</td>\n",
       "      <td>Month-to-month</td>\n",
       "      <td>Yes</td>\n",
       "      <td>Yes</td>\n",
       "      <td>21</td>\n",
       "      <td>6125.12</td>\n",
       "      <td>2450.048</td>\n",
       "      <td>306.2560</td>\n",
       "      <td>4.35</td>\n",
       "      <td>66130600</td>\n",
       "      <td>4.26</td>\n",
       "      <td>4.31</td>\n",
       "      <td>3.83</td>\n",
       "      <td>18.75</td>\n",
       "      <td>19</td>\n",
       "      <td>0</td>\n",
       "      <td>High School or less</td>\n",
       "    </tr>\n",
       "    <tr>\n",
       "      <th>4</th>\n",
       "      <td>Male</td>\n",
       "      <td>0</td>\n",
       "      <td>No</td>\n",
       "      <td>Yes</td>\n",
       "      <td>Month-to-month</td>\n",
       "      <td>Yes</td>\n",
       "      <td>Yes</td>\n",
       "      <td>23</td>\n",
       "      <td>6245.00</td>\n",
       "      <td>2498.000</td>\n",
       "      <td>312.2500</td>\n",
       "      <td>4.34</td>\n",
       "      <td>26868200</td>\n",
       "      <td>4.79</td>\n",
       "      <td>4.41</td>\n",
       "      <td>4.08</td>\n",
       "      <td>18.80</td>\n",
       "      <td>19.05</td>\n",
       "      <td>1</td>\n",
       "      <td>High School or less</td>\n",
       "    </tr>\n",
       "  </tbody>\n",
       "</table>\n",
       "</div>"
      ],
      "text/plain": [
       "   Gender  Business Dependancies Calls            Type Billing Rating  Age  \\\n",
       "0  Female         0           No   Yes  Month-to-month      No    Yes   18   \n",
       "1  Female         0           No   Yes  Month-to-month      No    Yes   19   \n",
       "2    Male         0           No   Yes  Month-to-month     Yes     No   22   \n",
       "3  Female         1           No   Yes  Month-to-month     Yes    Yes   21   \n",
       "4    Male         0           No   Yes  Month-to-month     Yes    Yes   23   \n",
       "\n",
       "    Salary  Base_pay     Bonus  Unit_Price    Volume  openingbalance  \\\n",
       "0  5089.00  2035.600  254.4500        3.77  21226600            3.75   \n",
       "1  5698.12  2279.248  284.9060        3.74  10462800            3.85   \n",
       "2  5896.65  2358.660  294.8325        3.89  18761000            4.23   \n",
       "3  6125.12  2450.048  306.2560        4.35  66130600            4.26   \n",
       "4  6245.00  2498.000  312.2500        4.34  26868200            4.79   \n",
       "\n",
       "   closingbalance   low  Unit_Sales Total_Sales  Months            Education  \n",
       "0            3.76  3.65       18.25        18.8       0  High School or less  \n",
       "1            3.68  3.65       18.40       18.85       0  High School or less  \n",
       "2            4.29  3.72       18.70        18.9       0  High School or less  \n",
       "3            4.31  3.83       18.75          19       0  High School or less  \n",
       "4            4.41  4.08       18.80       19.05       1  High School or less  "
      ]
     },
     "execution_count": 171,
     "metadata": {},
     "output_type": "execute_result"
    }
   ],
   "source": [
    "#read .csv file from local and assigning it to df DataFrame\n",
    "\n",
    "df = pd.read_csv(\"C:/Users/Govardhan_Choletti/Desktop/Data Sets/New_data_Set_Capstone.csv\")\n",
    "\n",
    "df.head()"
   ]
  },
  {
   "cell_type": "markdown",
   "id": "45743ff1",
   "metadata": {},
   "source": [
    "### Feature Description : "
   ]
  },
  {
   "cell_type": "raw",
   "id": "7518f9fc",
   "metadata": {},
   "source": [
    "\n",
    "Gender - talks of the gender - Male or female\n",
    "\n",
    "Business - if the person has a business or not\n",
    "\n",
    "Age - age of the person\n",
    "\n",
    "Salary - CTC of the employee\n",
    "\n",
    "Dependants - number of people dependant on the person\n",
    "\n",
    "Months - duration of the person employed with the company\n",
    "\n",
    "Calls - if the person has authority to make calls or not\n",
    "\n",
    "Type - salary settlement type\n",
    "\n",
    "Billing - Subscribed to billing plans or not\n",
    "\n",
    "Unit sales - unit sale made by the person\n",
    "\n",
    "Total sales - total sales made by the person\n",
    "\n",
    "Rating - If he has been given a rating by a superior or not\n",
    "\n",
    "Bonus - amount received by a person as bonus for sales\n",
    "\n",
    "Base pay - Base pay of the employee\n",
    "\n",
    "Unit price - The Unit price of a sale\n",
    "\n",
    "Volume - volume allotted to a person\n",
    "\n",
    "Opening balance - The opening balance of an employee\n",
    "\n",
    "Low - lowest balance allotted to a person.\n",
    "\n",
    "Closing Balance- The closing balance of an employee\n",
    "\n",
    "Education- Educational background of an employee"
   ]
  },
  {
   "cell_type": "code",
   "execution_count": 172,
   "id": "9c9b0cb8",
   "metadata": {
    "scrolled": false
   },
   "outputs": [
    {
     "data": {
      "text/html": [
       "<div>\n",
       "<style scoped>\n",
       "    .dataframe tbody tr th:only-of-type {\n",
       "        vertical-align: middle;\n",
       "    }\n",
       "\n",
       "    .dataframe tbody tr th {\n",
       "        vertical-align: top;\n",
       "    }\n",
       "\n",
       "    .dataframe thead th {\n",
       "        text-align: right;\n",
       "    }\n",
       "</style>\n",
       "<table border=\"1\" class=\"dataframe\">\n",
       "  <thead>\n",
       "    <tr style=\"text-align: right;\">\n",
       "      <th></th>\n",
       "      <th>Gender</th>\n",
       "      <th>Business</th>\n",
       "      <th>Dependancies</th>\n",
       "      <th>Calls</th>\n",
       "      <th>Type</th>\n",
       "      <th>Billing</th>\n",
       "      <th>Rating</th>\n",
       "      <th>Age</th>\n",
       "      <th>Salary</th>\n",
       "      <th>Base_pay</th>\n",
       "      <th>Bonus</th>\n",
       "      <th>Unit_Price</th>\n",
       "      <th>Volume</th>\n",
       "      <th>openingbalance</th>\n",
       "      <th>closingbalance</th>\n",
       "      <th>low</th>\n",
       "      <th>Unit_Sales</th>\n",
       "      <th>Total_Sales</th>\n",
       "      <th>Months</th>\n",
       "      <th>Education</th>\n",
       "    </tr>\n",
       "  </thead>\n",
       "  <tbody>\n",
       "    <tr>\n",
       "      <th>0</th>\n",
       "      <td>Female</td>\n",
       "      <td>0</td>\n",
       "      <td>No</td>\n",
       "      <td>Yes</td>\n",
       "      <td>Month-to-month</td>\n",
       "      <td>No</td>\n",
       "      <td>Yes</td>\n",
       "      <td>18</td>\n",
       "      <td>5089.00000</td>\n",
       "      <td>2035.600000</td>\n",
       "      <td>254.450000</td>\n",
       "      <td>3.77</td>\n",
       "      <td>21226600</td>\n",
       "      <td>3.7500</td>\n",
       "      <td>3.760</td>\n",
       "      <td>3.65</td>\n",
       "      <td>18.25</td>\n",
       "      <td>18.8</td>\n",
       "      <td>0</td>\n",
       "      <td>High School or less</td>\n",
       "    </tr>\n",
       "    <tr>\n",
       "      <th>1</th>\n",
       "      <td>Female</td>\n",
       "      <td>0</td>\n",
       "      <td>No</td>\n",
       "      <td>Yes</td>\n",
       "      <td>Month-to-month</td>\n",
       "      <td>No</td>\n",
       "      <td>Yes</td>\n",
       "      <td>19</td>\n",
       "      <td>5698.12000</td>\n",
       "      <td>2279.248000</td>\n",
       "      <td>284.906000</td>\n",
       "      <td>3.74</td>\n",
       "      <td>10462800</td>\n",
       "      <td>3.8500</td>\n",
       "      <td>3.680</td>\n",
       "      <td>3.65</td>\n",
       "      <td>18.40</td>\n",
       "      <td>18.85</td>\n",
       "      <td>0</td>\n",
       "      <td>High School or less</td>\n",
       "    </tr>\n",
       "    <tr>\n",
       "      <th>2</th>\n",
       "      <td>Male</td>\n",
       "      <td>0</td>\n",
       "      <td>No</td>\n",
       "      <td>Yes</td>\n",
       "      <td>Month-to-month</td>\n",
       "      <td>Yes</td>\n",
       "      <td>No</td>\n",
       "      <td>22</td>\n",
       "      <td>5896.65000</td>\n",
       "      <td>2358.660000</td>\n",
       "      <td>294.832500</td>\n",
       "      <td>3.89</td>\n",
       "      <td>18761000</td>\n",
       "      <td>4.2300</td>\n",
       "      <td>4.290</td>\n",
       "      <td>3.72</td>\n",
       "      <td>18.70</td>\n",
       "      <td>18.9</td>\n",
       "      <td>0</td>\n",
       "      <td>High School or less</td>\n",
       "    </tr>\n",
       "    <tr>\n",
       "      <th>3</th>\n",
       "      <td>Female</td>\n",
       "      <td>1</td>\n",
       "      <td>No</td>\n",
       "      <td>Yes</td>\n",
       "      <td>Month-to-month</td>\n",
       "      <td>Yes</td>\n",
       "      <td>Yes</td>\n",
       "      <td>21</td>\n",
       "      <td>6125.12000</td>\n",
       "      <td>2450.048000</td>\n",
       "      <td>306.256000</td>\n",
       "      <td>4.35</td>\n",
       "      <td>66130600</td>\n",
       "      <td>4.2600</td>\n",
       "      <td>4.310</td>\n",
       "      <td>3.83</td>\n",
       "      <td>18.75</td>\n",
       "      <td>19</td>\n",
       "      <td>0</td>\n",
       "      <td>High School or less</td>\n",
       "    </tr>\n",
       "    <tr>\n",
       "      <th>4</th>\n",
       "      <td>Male</td>\n",
       "      <td>0</td>\n",
       "      <td>No</td>\n",
       "      <td>Yes</td>\n",
       "      <td>Month-to-month</td>\n",
       "      <td>Yes</td>\n",
       "      <td>Yes</td>\n",
       "      <td>23</td>\n",
       "      <td>6245.00000</td>\n",
       "      <td>2498.000000</td>\n",
       "      <td>312.250000</td>\n",
       "      <td>4.34</td>\n",
       "      <td>26868200</td>\n",
       "      <td>4.7900</td>\n",
       "      <td>4.410</td>\n",
       "      <td>4.08</td>\n",
       "      <td>18.80</td>\n",
       "      <td>19.05</td>\n",
       "      <td>1</td>\n",
       "      <td>High School or less</td>\n",
       "    </tr>\n",
       "    <tr>\n",
       "      <th>5</th>\n",
       "      <td>Male</td>\n",
       "      <td>0</td>\n",
       "      <td>No</td>\n",
       "      <td>Yes</td>\n",
       "      <td>Two year</td>\n",
       "      <td>Yes</td>\n",
       "      <td>No</td>\n",
       "      <td>23</td>\n",
       "      <td>6444.23000</td>\n",
       "      <td>2577.692000</td>\n",
       "      <td>322.211500</td>\n",
       "      <td>4.37</td>\n",
       "      <td>29869600</td>\n",
       "      <td>5.8800</td>\n",
       "      <td>5.040</td>\n",
       "      <td>4.13</td>\n",
       "      <td>18.80</td>\n",
       "      <td>19.1</td>\n",
       "      <td>1</td>\n",
       "      <td>High School or less</td>\n",
       "    </tr>\n",
       "    <tr>\n",
       "      <th>6</th>\n",
       "      <td>Male</td>\n",
       "      <td>0</td>\n",
       "      <td>Yes</td>\n",
       "      <td>No</td>\n",
       "      <td>Two year</td>\n",
       "      <td>Yes</td>\n",
       "      <td>No</td>\n",
       "      <td>23</td>\n",
       "      <td>6455.50000</td>\n",
       "      <td>2582.200000</td>\n",
       "      <td>322.775000</td>\n",
       "      <td>4.42</td>\n",
       "      <td>25239200</td>\n",
       "      <td>6.0925</td>\n",
       "      <td>5.590</td>\n",
       "      <td>4.15</td>\n",
       "      <td>18.80</td>\n",
       "      <td>19.1</td>\n",
       "      <td>1</td>\n",
       "      <td>High School or less</td>\n",
       "    </tr>\n",
       "    <tr>\n",
       "      <th>7</th>\n",
       "      <td>Female</td>\n",
       "      <td>0</td>\n",
       "      <td>No</td>\n",
       "      <td>Yes</td>\n",
       "      <td>One year</td>\n",
       "      <td>Yes</td>\n",
       "      <td>No</td>\n",
       "      <td>24</td>\n",
       "      <td>6458.35722</td>\n",
       "      <td>2583.342888</td>\n",
       "      <td>322.917861</td>\n",
       "      <td>4.44</td>\n",
       "      <td>28307500</td>\n",
       "      <td>6.1000</td>\n",
       "      <td>5.670</td>\n",
       "      <td>4.21</td>\n",
       "      <td>18.80</td>\n",
       "      <td>19.15</td>\n",
       "      <td>1</td>\n",
       "      <td>Intermediate</td>\n",
       "    </tr>\n",
       "    <tr>\n",
       "      <th>8</th>\n",
       "      <td>Female</td>\n",
       "      <td>1</td>\n",
       "      <td>No</td>\n",
       "      <td>Yes</td>\n",
       "      <td>Month-to-month</td>\n",
       "      <td>Yes</td>\n",
       "      <td>Yes</td>\n",
       "      <td>24</td>\n",
       "      <td>6529.23000</td>\n",
       "      <td>2611.692000</td>\n",
       "      <td>326.461500</td>\n",
       "      <td>4.45</td>\n",
       "      <td>24295600</td>\n",
       "      <td>6.1500</td>\n",
       "      <td>6.170</td>\n",
       "      <td>4.27</td>\n",
       "      <td>18.85</td>\n",
       "      <td>19.2</td>\n",
       "      <td>1</td>\n",
       "      <td>Intermediate</td>\n",
       "    </tr>\n",
       "    <tr>\n",
       "      <th>9</th>\n",
       "      <td>Male</td>\n",
       "      <td>0</td>\n",
       "      <td>No</td>\n",
       "      <td>Yes</td>\n",
       "      <td>Month-to-month</td>\n",
       "      <td>Yes</td>\n",
       "      <td>No</td>\n",
       "      <td>43</td>\n",
       "      <td>6682.33000</td>\n",
       "      <td>2672.932000</td>\n",
       "      <td>334.116500</td>\n",
       "      <td>4.41</td>\n",
       "      <td>17671600</td>\n",
       "      <td>6.2600</td>\n",
       "      <td>6.095</td>\n",
       "      <td>4.22</td>\n",
       "      <td>18.85</td>\n",
       "      <td>19.2</td>\n",
       "      <td>1</td>\n",
       "      <td>Intermediate</td>\n",
       "    </tr>\n",
       "  </tbody>\n",
       "</table>\n",
       "</div>"
      ],
      "text/plain": [
       "   Gender  Business Dependancies Calls            Type Billing Rating  Age  \\\n",
       "0  Female         0           No   Yes  Month-to-month      No    Yes   18   \n",
       "1  Female         0           No   Yes  Month-to-month      No    Yes   19   \n",
       "2    Male         0           No   Yes  Month-to-month     Yes     No   22   \n",
       "3  Female         1           No   Yes  Month-to-month     Yes    Yes   21   \n",
       "4    Male         0           No   Yes  Month-to-month     Yes    Yes   23   \n",
       "5    Male         0           No   Yes        Two year     Yes     No   23   \n",
       "6    Male         0          Yes    No        Two year     Yes     No   23   \n",
       "7  Female         0           No   Yes        One year     Yes     No   24   \n",
       "8  Female         1           No   Yes  Month-to-month     Yes    Yes   24   \n",
       "9    Male         0           No   Yes  Month-to-month     Yes     No   43   \n",
       "\n",
       "       Salary     Base_pay       Bonus  Unit_Price    Volume  openingbalance  \\\n",
       "0  5089.00000  2035.600000  254.450000        3.77  21226600          3.7500   \n",
       "1  5698.12000  2279.248000  284.906000        3.74  10462800          3.8500   \n",
       "2  5896.65000  2358.660000  294.832500        3.89  18761000          4.2300   \n",
       "3  6125.12000  2450.048000  306.256000        4.35  66130600          4.2600   \n",
       "4  6245.00000  2498.000000  312.250000        4.34  26868200          4.7900   \n",
       "5  6444.23000  2577.692000  322.211500        4.37  29869600          5.8800   \n",
       "6  6455.50000  2582.200000  322.775000        4.42  25239200          6.0925   \n",
       "7  6458.35722  2583.342888  322.917861        4.44  28307500          6.1000   \n",
       "8  6529.23000  2611.692000  326.461500        4.45  24295600          6.1500   \n",
       "9  6682.33000  2672.932000  334.116500        4.41  17671600          6.2600   \n",
       "\n",
       "   closingbalance   low  Unit_Sales Total_Sales  Months            Education  \n",
       "0           3.760  3.65       18.25        18.8       0  High School or less  \n",
       "1           3.680  3.65       18.40       18.85       0  High School or less  \n",
       "2           4.290  3.72       18.70        18.9       0  High School or less  \n",
       "3           4.310  3.83       18.75          19       0  High School or less  \n",
       "4           4.410  4.08       18.80       19.05       1  High School or less  \n",
       "5           5.040  4.13       18.80        19.1       1  High School or less  \n",
       "6           5.590  4.15       18.80        19.1       1  High School or less  \n",
       "7           5.670  4.21       18.80       19.15       1         Intermediate  \n",
       "8           6.170  4.27       18.85        19.2       1         Intermediate  \n",
       "9           6.095  4.22       18.85        19.2       1         Intermediate  "
      ]
     },
     "execution_count": 172,
     "metadata": {},
     "output_type": "execute_result"
    }
   ],
   "source": [
    "#creating copy of data frame df for future purpose(if we lose any data by mistaken we can get data easily).\n",
    "\n",
    "#we use new data frame df_new for perfoming operations.\n",
    "\n",
    "df_new = df.copy()\n",
    "\n",
    "#getting first 10 rows from data frame\n",
    "\n",
    "df_new.head(10) "
   ]
  },
  {
   "cell_type": "code",
   "execution_count": 173,
   "id": "a3ec8c52",
   "metadata": {
    "scrolled": false
   },
   "outputs": [
    {
     "data": {
      "text/html": [
       "<div>\n",
       "<style scoped>\n",
       "    .dataframe tbody tr th:only-of-type {\n",
       "        vertical-align: middle;\n",
       "    }\n",
       "\n",
       "    .dataframe tbody tr th {\n",
       "        vertical-align: top;\n",
       "    }\n",
       "\n",
       "    .dataframe thead th {\n",
       "        text-align: right;\n",
       "    }\n",
       "</style>\n",
       "<table border=\"1\" class=\"dataframe\">\n",
       "  <thead>\n",
       "    <tr style=\"text-align: right;\">\n",
       "      <th></th>\n",
       "      <th>Gender</th>\n",
       "      <th>Business</th>\n",
       "      <th>Dependancies</th>\n",
       "      <th>Calls</th>\n",
       "      <th>Type</th>\n",
       "      <th>Billing</th>\n",
       "      <th>Rating</th>\n",
       "      <th>Age</th>\n",
       "      <th>Salary</th>\n",
       "      <th>Base_pay</th>\n",
       "      <th>Bonus</th>\n",
       "      <th>Unit_Price</th>\n",
       "      <th>Volume</th>\n",
       "      <th>openingbalance</th>\n",
       "      <th>closingbalance</th>\n",
       "      <th>low</th>\n",
       "      <th>Unit_Sales</th>\n",
       "      <th>Total_Sales</th>\n",
       "      <th>Months</th>\n",
       "      <th>Education</th>\n",
       "    </tr>\n",
       "  </thead>\n",
       "  <tbody>\n",
       "    <tr>\n",
       "      <th>4990</th>\n",
       "      <td>Male</td>\n",
       "      <td>0</td>\n",
       "      <td>No</td>\n",
       "      <td>Yes</td>\n",
       "      <td>Month-to-month</td>\n",
       "      <td>No</td>\n",
       "      <td>No</td>\n",
       "      <td>70</td>\n",
       "      <td>168974.5280</td>\n",
       "      <td>61235.51239</td>\n",
       "      <td>8448.726400</td>\n",
       "      <td>312.500000</td>\n",
       "      <td>317200</td>\n",
       "      <td>NaN</td>\n",
       "      <td>223.960007</td>\n",
       "      <td>307.399994</td>\n",
       "      <td>116.85</td>\n",
       "      <td>8672.45</td>\n",
       "      <td>72</td>\n",
       "      <td>PG</td>\n",
       "    </tr>\n",
       "    <tr>\n",
       "      <th>4991</th>\n",
       "      <td>Male</td>\n",
       "      <td>1</td>\n",
       "      <td>No</td>\n",
       "      <td>Yes</td>\n",
       "      <td>Two year</td>\n",
       "      <td>No</td>\n",
       "      <td>No</td>\n",
       "      <td>70</td>\n",
       "      <td>169149.7070</td>\n",
       "      <td>67659.88280</td>\n",
       "      <td>8457.485350</td>\n",
       "      <td>309.660004</td>\n",
       "      <td>443500</td>\n",
       "      <td>NaN</td>\n",
       "      <td>219.080002</td>\n",
       "      <td>302.779999</td>\n",
       "      <td>117.15</td>\n",
       "      <td>8684.8</td>\n",
       "      <td>72</td>\n",
       "      <td>PG</td>\n",
       "    </tr>\n",
       "    <tr>\n",
       "      <th>4992</th>\n",
       "      <td>Male</td>\n",
       "      <td>1</td>\n",
       "      <td>No</td>\n",
       "      <td>Yes</td>\n",
       "      <td>One year</td>\n",
       "      <td>No</td>\n",
       "      <td>No</td>\n",
       "      <td>71</td>\n",
       "      <td>170372.5473</td>\n",
       "      <td>68149.01893</td>\n",
       "      <td>8518.627365</td>\n",
       "      <td>312.700012</td>\n",
       "      <td>295300</td>\n",
       "      <td>NaN</td>\n",
       "      <td>238.089996</td>\n",
       "      <td>308.489990</td>\n",
       "      <td>117.20</td>\n",
       "      <td></td>\n",
       "      <td>72</td>\n",
       "      <td>PG</td>\n",
       "    </tr>\n",
       "    <tr>\n",
       "      <th>4993</th>\n",
       "      <td>Male</td>\n",
       "      <td>0</td>\n",
       "      <td>No</td>\n",
       "      <td>Yes</td>\n",
       "      <td>Month-to-month</td>\n",
       "      <td>Yes</td>\n",
       "      <td>Yes</td>\n",
       "      <td>71</td>\n",
       "      <td>170639.5565</td>\n",
       "      <td>68255.82259</td>\n",
       "      <td>8531.977825</td>\n",
       "      <td>314.000000</td>\n",
       "      <td>294600</td>\n",
       "      <td>NaN</td>\n",
       "      <td>237.899994</td>\n",
       "      <td>309.420013</td>\n",
       "      <td>117.45</td>\n",
       "      <td></td>\n",
       "      <td>72</td>\n",
       "      <td>PG</td>\n",
       "    </tr>\n",
       "    <tr>\n",
       "      <th>4994</th>\n",
       "      <td>Male</td>\n",
       "      <td>0</td>\n",
       "      <td>No</td>\n",
       "      <td>Yes</td>\n",
       "      <td>Month-to-month</td>\n",
       "      <td>Yes</td>\n",
       "      <td>No</td>\n",
       "      <td>71</td>\n",
       "      <td>175689.3000</td>\n",
       "      <td>70275.72000</td>\n",
       "      <td>8784.465000</td>\n",
       "      <td>625.861078</td>\n",
       "      <td>7987100</td>\n",
       "      <td>NaN</td>\n",
       "      <td>238.470001</td>\n",
       "      <td>302.048370</td>\n",
       "      <td>117.60</td>\n",
       "      <td></td>\n",
       "      <td>72</td>\n",
       "      <td>PG</td>\n",
       "    </tr>\n",
       "    <tr>\n",
       "      <th>4995</th>\n",
       "      <td>Female</td>\n",
       "      <td>0</td>\n",
       "      <td>No</td>\n",
       "      <td>Yes</td>\n",
       "      <td>Month-to-month</td>\n",
       "      <td>No</td>\n",
       "      <td>No</td>\n",
       "      <td>72</td>\n",
       "      <td>180696.8000</td>\n",
       "      <td>72278.72000</td>\n",
       "      <td>9034.840000</td>\n",
       "      <td>629.511067</td>\n",
       "      <td>3927000</td>\n",
       "      <td>NaN</td>\n",
       "      <td>293.838840</td>\n",
       "      <td>310.955001</td>\n",
       "      <td>117.80</td>\n",
       "      <td></td>\n",
       "      <td>72</td>\n",
       "      <td>PG</td>\n",
       "    </tr>\n",
       "    <tr>\n",
       "      <th>4996</th>\n",
       "      <td>Male</td>\n",
       "      <td>0</td>\n",
       "      <td>No</td>\n",
       "      <td>Yes</td>\n",
       "      <td>Month-to-month</td>\n",
       "      <td>Yes</td>\n",
       "      <td>No</td>\n",
       "      <td>73</td>\n",
       "      <td>185685.9000</td>\n",
       "      <td>74274.36000</td>\n",
       "      <td>9284.295000</td>\n",
       "      <td>627.841071</td>\n",
       "      <td>6031900</td>\n",
       "      <td>NaN</td>\n",
       "      <td>301.311314</td>\n",
       "      <td>309.610028</td>\n",
       "      <td>118.60</td>\n",
       "      <td></td>\n",
       "      <td>72</td>\n",
       "      <td>PG</td>\n",
       "    </tr>\n",
       "    <tr>\n",
       "      <th>4997</th>\n",
       "      <td>Male</td>\n",
       "      <td>0</td>\n",
       "      <td>No</td>\n",
       "      <td>Yes</td>\n",
       "      <td>Month-to-month</td>\n",
       "      <td>Yes</td>\n",
       "      <td>No</td>\n",
       "      <td>74</td>\n",
       "      <td>192636.8000</td>\n",
       "      <td>77054.72000</td>\n",
       "      <td>9631.840000</td>\n",
       "      <td>625.860033</td>\n",
       "      <td>7949400</td>\n",
       "      <td>NaN</td>\n",
       "      <td>306.040009</td>\n",
       "      <td>303.483494</td>\n",
       "      <td>118.60</td>\n",
       "      <td></td>\n",
       "      <td>72</td>\n",
       "      <td>PG</td>\n",
       "    </tr>\n",
       "    <tr>\n",
       "      <th>4998</th>\n",
       "      <td>Male</td>\n",
       "      <td>1</td>\n",
       "      <td>No</td>\n",
       "      <td>Yes</td>\n",
       "      <td>Month-to-month</td>\n",
       "      <td>Yes</td>\n",
       "      <td>Yes</td>\n",
       "      <td>74</td>\n",
       "      <td>195970.7000</td>\n",
       "      <td>78388.28000</td>\n",
       "      <td>9798.535000</td>\n",
       "      <td>629.510005</td>\n",
       "      <td>3908400</td>\n",
       "      <td>NaN</td>\n",
       "      <td>308.579987</td>\n",
       "      <td>312.432438</td>\n",
       "      <td>118.65</td>\n",
       "      <td></td>\n",
       "      <td>72</td>\n",
       "      <td>PG</td>\n",
       "    </tr>\n",
       "    <tr>\n",
       "      <th>4999</th>\n",
       "      <td>Male</td>\n",
       "      <td>0</td>\n",
       "      <td>Yes</td>\n",
       "      <td>Yes</td>\n",
       "      <td>Two year</td>\n",
       "      <td>Yes</td>\n",
       "      <td>No</td>\n",
       "      <td>88</td>\n",
       "      <td>199970.7400</td>\n",
       "      <td>79988.29600</td>\n",
       "      <td>9998.537000</td>\n",
       "      <td>627.839984</td>\n",
       "      <td>6003300</td>\n",
       "      <td>NaN</td>\n",
       "      <td>312.307316</td>\n",
       "      <td>311.081089</td>\n",
       "      <td>118.75</td>\n",
       "      <td></td>\n",
       "      <td>72</td>\n",
       "      <td>PG</td>\n",
       "    </tr>\n",
       "  </tbody>\n",
       "</table>\n",
       "</div>"
      ],
      "text/plain": [
       "      Gender  Business Dependancies Calls            Type Billing Rating  Age  \\\n",
       "4990    Male         0           No   Yes  Month-to-month      No     No   70   \n",
       "4991    Male         1           No   Yes        Two year      No     No   70   \n",
       "4992    Male         1           No   Yes        One year      No     No   71   \n",
       "4993    Male         0           No   Yes  Month-to-month     Yes    Yes   71   \n",
       "4994    Male         0           No   Yes  Month-to-month     Yes     No   71   \n",
       "4995  Female         0           No   Yes  Month-to-month      No     No   72   \n",
       "4996    Male         0           No   Yes  Month-to-month     Yes     No   73   \n",
       "4997    Male         0           No   Yes  Month-to-month     Yes     No   74   \n",
       "4998    Male         1           No   Yes  Month-to-month     Yes    Yes   74   \n",
       "4999    Male         0          Yes   Yes        Two year     Yes     No   88   \n",
       "\n",
       "           Salary     Base_pay        Bonus  Unit_Price   Volume  \\\n",
       "4990  168974.5280  61235.51239  8448.726400  312.500000   317200   \n",
       "4991  169149.7070  67659.88280  8457.485350  309.660004   443500   \n",
       "4992  170372.5473  68149.01893  8518.627365  312.700012   295300   \n",
       "4993  170639.5565  68255.82259  8531.977825  314.000000   294600   \n",
       "4994  175689.3000  70275.72000  8784.465000  625.861078  7987100   \n",
       "4995  180696.8000  72278.72000  9034.840000  629.511067  3927000   \n",
       "4996  185685.9000  74274.36000  9284.295000  627.841071  6031900   \n",
       "4997  192636.8000  77054.72000  9631.840000  625.860033  7949400   \n",
       "4998  195970.7000  78388.28000  9798.535000  629.510005  3908400   \n",
       "4999  199970.7400  79988.29600  9998.537000  627.839984  6003300   \n",
       "\n",
       "      openingbalance  closingbalance         low  Unit_Sales Total_Sales  \\\n",
       "4990             NaN      223.960007  307.399994      116.85     8672.45   \n",
       "4991             NaN      219.080002  302.779999      117.15      8684.8   \n",
       "4992             NaN      238.089996  308.489990      117.20               \n",
       "4993             NaN      237.899994  309.420013      117.45               \n",
       "4994             NaN      238.470001  302.048370      117.60               \n",
       "4995             NaN      293.838840  310.955001      117.80               \n",
       "4996             NaN      301.311314  309.610028      118.60               \n",
       "4997             NaN      306.040009  303.483494      118.60               \n",
       "4998             NaN      308.579987  312.432438      118.65               \n",
       "4999             NaN      312.307316  311.081089      118.75               \n",
       "\n",
       "      Months Education  \n",
       "4990      72        PG  \n",
       "4991      72        PG  \n",
       "4992      72        PG  \n",
       "4993      72        PG  \n",
       "4994      72        PG  \n",
       "4995      72        PG  \n",
       "4996      72        PG  \n",
       "4997      72        PG  \n",
       "4998      72        PG  \n",
       "4999      72        PG  "
      ]
     },
     "execution_count": 173,
     "metadata": {},
     "output_type": "execute_result"
    }
   ],
   "source": [
    "#getting last 10 rows of data frame\n",
    "\n",
    "df_new.tail(10)"
   ]
  },
  {
   "cell_type": "code",
   "execution_count": 174,
   "id": "938419ba",
   "metadata": {
    "scrolled": false
   },
   "outputs": [
    {
     "name": "stdout",
     "output_type": "stream",
     "text": [
      "Size: 100000\n",
      "Shape: (5000, 20)\n"
     ]
    }
   ],
   "source": [
    "#for getting size of dataframe\n",
    "\n",
    "size = df_new.size\n",
    "\n",
    "#for getting shape of dataframe\n",
    "\n",
    "shape = df_new.shape\n",
    "\n",
    "print(\"Size:\",size)\n",
    "\n",
    "print(\"Shape:\",shape)"
   ]
  },
  {
   "cell_type": "code",
   "execution_count": 175,
   "id": "ec7394a3",
   "metadata": {
    "scrolled": false
   },
   "outputs": [
    {
     "name": "stdout",
     "output_type": "stream",
     "text": [
      "<class 'pandas.core.frame.DataFrame'>\n",
      "RangeIndex: 5000 entries, 0 to 4999\n",
      "Data columns (total 20 columns):\n",
      " #   Column          Non-Null Count  Dtype  \n",
      "---  ------          --------------  -----  \n",
      " 0   Gender          5000 non-null   object \n",
      " 1   Business        5000 non-null   int64  \n",
      " 2   Dependancies    5000 non-null   object \n",
      " 3   Calls           5000 non-null   object \n",
      " 4   Type            5000 non-null   object \n",
      " 5   Billing         5000 non-null   object \n",
      " 6   Rating          5000 non-null   object \n",
      " 7   Age             5000 non-null   int64  \n",
      " 8   Salary          5000 non-null   float64\n",
      " 9   Base_pay        4977 non-null   float64\n",
      " 10  Bonus           5000 non-null   float64\n",
      " 11  Unit_Price      5000 non-null   float64\n",
      " 12  Volume          5000 non-null   int64  \n",
      " 13  openingbalance  3524 non-null   float64\n",
      " 14  closingbalance  5000 non-null   float64\n",
      " 15  low             5000 non-null   float64\n",
      " 16  Unit_Sales      5000 non-null   float64\n",
      " 17  Total_Sales     4992 non-null   object \n",
      " 18  Months          5000 non-null   int64  \n",
      " 19  Education       5000 non-null   object \n",
      "dtypes: float64(8), int64(4), object(8)\n",
      "memory usage: 781.4+ KB\n"
     ]
    }
   ],
   "source": [
    "#getting a concise summary of the dataframe\n",
    "\n",
    "df_new.info()"
   ]
  },
  {
   "cell_type": "markdown",
   "id": "de9bc45f",
   "metadata": {},
   "source": [
    "###### Here we have \"Business\" as int64 but it is categorical data and \"Total_Sales\" as categorical data but it is numerical data.So I am Changing these these 2 columns to their respective data types."
   ]
  },
  {
   "cell_type": "code",
   "execution_count": 176,
   "id": "03d34966",
   "metadata": {
    "scrolled": false
   },
   "outputs": [
    {
     "name": "stdout",
     "output_type": "stream",
     "text": [
      "<class 'pandas.core.frame.DataFrame'>\n",
      "RangeIndex: 5000 entries, 0 to 4999\n",
      "Data columns (total 20 columns):\n",
      " #   Column          Non-Null Count  Dtype  \n",
      "---  ------          --------------  -----  \n",
      " 0   Gender          5000 non-null   object \n",
      " 1   Business        5000 non-null   object \n",
      " 2   Dependancies    5000 non-null   object \n",
      " 3   Calls           5000 non-null   object \n",
      " 4   Type            5000 non-null   object \n",
      " 5   Billing         5000 non-null   object \n",
      " 6   Rating          5000 non-null   object \n",
      " 7   Age             5000 non-null   int64  \n",
      " 8   Salary          5000 non-null   float64\n",
      " 9   Base_pay        4977 non-null   float64\n",
      " 10  Bonus           5000 non-null   float64\n",
      " 11  Unit_Price      5000 non-null   float64\n",
      " 12  Volume          5000 non-null   int64  \n",
      " 13  openingbalance  3524 non-null   float64\n",
      " 14  closingbalance  5000 non-null   float64\n",
      " 15  low             5000 non-null   float64\n",
      " 16  Unit_Sales      5000 non-null   float64\n",
      " 17  Total_Sales     4984 non-null   float64\n",
      " 18  Months          5000 non-null   int64  \n",
      " 19  Education       5000 non-null   object \n",
      "dtypes: float64(9), int64(3), object(8)\n",
      "memory usage: 781.4+ KB\n"
     ]
    }
   ],
   "source": [
    "df_new['Business'] = df_new['Business'].astype('object')\n",
    "\n",
    "df_new['Total_Sales'] = pd.to_numeric(df_new['Total_Sales'],errors='coerce')\n",
    "\n",
    "df_new.info()"
   ]
  },
  {
   "cell_type": "markdown",
   "id": "dbd3fb6a",
   "metadata": {},
   "source": [
    "### Checking for duplicates : "
   ]
  },
  {
   "cell_type": "code",
   "execution_count": 177,
   "id": "88d87c7a",
   "metadata": {
    "scrolled": false
   },
   "outputs": [
    {
     "name": "stdout",
     "output_type": "stream",
     "text": [
      "Duplicate Rows :\n"
     ]
    },
    {
     "data": {
      "text/html": [
       "<div>\n",
       "<style scoped>\n",
       "    .dataframe tbody tr th:only-of-type {\n",
       "        vertical-align: middle;\n",
       "    }\n",
       "\n",
       "    .dataframe tbody tr th {\n",
       "        vertical-align: top;\n",
       "    }\n",
       "\n",
       "    .dataframe thead th {\n",
       "        text-align: right;\n",
       "    }\n",
       "</style>\n",
       "<table border=\"1\" class=\"dataframe\">\n",
       "  <thead>\n",
       "    <tr style=\"text-align: right;\">\n",
       "      <th></th>\n",
       "      <th>Gender</th>\n",
       "      <th>Business</th>\n",
       "      <th>Dependancies</th>\n",
       "      <th>Calls</th>\n",
       "      <th>Type</th>\n",
       "      <th>Billing</th>\n",
       "      <th>Rating</th>\n",
       "      <th>Age</th>\n",
       "      <th>Salary</th>\n",
       "      <th>Base_pay</th>\n",
       "      <th>Bonus</th>\n",
       "      <th>Unit_Price</th>\n",
       "      <th>Volume</th>\n",
       "      <th>openingbalance</th>\n",
       "      <th>closingbalance</th>\n",
       "      <th>low</th>\n",
       "      <th>Unit_Sales</th>\n",
       "      <th>Total_Sales</th>\n",
       "      <th>Months</th>\n",
       "      <th>Education</th>\n",
       "    </tr>\n",
       "  </thead>\n",
       "  <tbody>\n",
       "  </tbody>\n",
       "</table>\n",
       "</div>"
      ],
      "text/plain": [
       "Empty DataFrame\n",
       "Columns: [Gender, Business, Dependancies, Calls, Type, Billing, Rating, Age, Salary, Base_pay, Bonus, Unit_Price, Volume, openingbalance, closingbalance, low, Unit_Sales, Total_Sales, Months, Education]\n",
       "Index: []"
      ]
     },
     "execution_count": 177,
     "metadata": {},
     "output_type": "execute_result"
    }
   ],
   "source": [
    "duplicate = df_new[df_new.duplicated()]\n",
    "  \n",
    "print(\"Duplicate Rows :\")\n",
    "  \n",
    "# Print the resultant Dataframe\n",
    "duplicate"
   ]
  },
  {
   "cell_type": "markdown",
   "id": "7c206bab",
   "metadata": {},
   "source": [
    "###### We Do not have any duplicate rows."
   ]
  },
  {
   "cell_type": "markdown",
   "id": "d99d775c",
   "metadata": {},
   "source": [
    "### Checking for Null Values :"
   ]
  },
  {
   "cell_type": "code",
   "execution_count": 178,
   "id": "bbf96e58",
   "metadata": {
    "scrolled": false
   },
   "outputs": [
    {
     "data": {
      "text/plain": [
       "Gender            False\n",
       "Business          False\n",
       "Dependancies      False\n",
       "Calls             False\n",
       "Type              False\n",
       "Billing           False\n",
       "Rating            False\n",
       "Age               False\n",
       "Salary            False\n",
       "Base_pay           True\n",
       "Bonus             False\n",
       "Unit_Price        False\n",
       "Volume            False\n",
       "openingbalance     True\n",
       "closingbalance    False\n",
       "low               False\n",
       "Unit_Sales        False\n",
       "Total_Sales        True\n",
       "Months            False\n",
       "Education         False\n",
       "dtype: bool"
      ]
     },
     "execution_count": 178,
     "metadata": {},
     "output_type": "execute_result"
    }
   ],
   "source": [
    "#checking are there any missing values in data set\n",
    "\n",
    "df_new.isnull().any()"
   ]
  },
  {
   "cell_type": "code",
   "execution_count": 179,
   "id": "c0f2551d",
   "metadata": {
    "scrolled": false
   },
   "outputs": [
    {
     "data": {
      "text/plain": [
       "Gender               0\n",
       "Business             0\n",
       "Dependancies         0\n",
       "Calls                0\n",
       "Type                 0\n",
       "Billing              0\n",
       "Rating               0\n",
       "Age                  0\n",
       "Salary               0\n",
       "Base_pay            23\n",
       "Bonus                0\n",
       "Unit_Price           0\n",
       "Volume               0\n",
       "openingbalance    1476\n",
       "closingbalance       0\n",
       "low                  0\n",
       "Unit_Sales           0\n",
       "Total_Sales         16\n",
       "Months               0\n",
       "Education            0\n",
       "dtype: int64"
      ]
     },
     "execution_count": 179,
     "metadata": {},
     "output_type": "execute_result"
    }
   ],
   "source": [
    "#How many missing values we have in each column in our dataset\n",
    "\n",
    "df_new.isnull().sum()"
   ]
  },
  {
   "cell_type": "markdown",
   "id": "d148840d",
   "metadata": {},
   "source": [
    "#### Checking Percentage of Null Values :"
   ]
  },
  {
   "cell_type": "code",
   "execution_count": 180,
   "id": "ffaf27aa",
   "metadata": {
    "scrolled": false
   },
   "outputs": [
    {
     "data": {
      "text/plain": [
       "Gender             0.00\n",
       "Business           0.00\n",
       "Dependancies       0.00\n",
       "Calls              0.00\n",
       "Type               0.00\n",
       "Billing            0.00\n",
       "Rating             0.00\n",
       "Age                0.00\n",
       "Salary             0.00\n",
       "Base_pay           0.46\n",
       "Bonus              0.00\n",
       "Unit_Price         0.00\n",
       "Volume             0.00\n",
       "openingbalance    29.52\n",
       "closingbalance     0.00\n",
       "low                0.00\n",
       "Unit_Sales         0.00\n",
       "Total_Sales        0.32\n",
       "Months             0.00\n",
       "Education          0.00\n",
       "dtype: float64"
      ]
     },
     "execution_count": 180,
     "metadata": {},
     "output_type": "execute_result"
    }
   ],
   "source": [
    "df_new.isnull().sum() * 100 / len(df_new)"
   ]
  },
  {
   "cell_type": "markdown",
   "id": "b3c0256f",
   "metadata": {},
   "source": [
    "## Continous Variables :"
   ]
  },
  {
   "cell_type": "markdown",
   "id": "8f00ff83",
   "metadata": {},
   "source": [
    "### Distribution Of Data - Continous variables :"
   ]
  },
  {
   "cell_type": "code",
   "execution_count": 181,
   "id": "a7414ca9",
   "metadata": {
    "scrolled": false
   },
   "outputs": [],
   "source": [
    "# Function for plotting displots on continous variables\n",
    "\n",
    "# Method Definition\n",
    "\n",
    "def plt_numeric_dist(data,num):\n",
    "    \n",
    "    #looping for each variable\n",
    "    for j,i in enumerate(num):\n",
    "        \n",
    "        sns.displot(data[i],kde=True)\n",
    "        \n",
    "       "
   ]
  },
  {
   "cell_type": "code",
   "execution_count": 183,
   "id": "4a2f7df8",
   "metadata": {
    "scrolled": false
   },
   "outputs": [
    {
     "data": {
      "image/png": "[encoded data removed]",
      "text/plain": [
       "<Figure size 360x360 with 1 Axes>"
      ]
     },
     "metadata": {
      "needs_background": "light"
     },
     "output_type": "display_data"
    },
    {
     "data": {
      "image/png": "[encoded data removed]",
      "text/plain": [
       "<Figure size 360x360 with 1 Axes>"
      ]
     },
     "metadata": {
      "needs_background": "light"
     },
     "output_type": "display_data"
    },
    {
     "data": {
      "image/png": "[encoded data removed]",
      "text/plain": [
       "<Figure size 360x360 with 1 Axes>"
      ]
     },
     "metadata": {
      "needs_background": "light"
     },
     "output_type": "display_data"
    },
    {
     "data": {
      "image/png": "[encoded data removed]",
      "text/plain": [
       "<Figure size 360x360 with 1 Axes>"
      ]
     },
     "metadata": {
      "needs_background": "light"
     },
     "output_type": "display_data"
    },
    {
     "data": {
      "image/png": "[encoded data removed]",
      "text/plain": [
       "<Figure size 360x360 with 1 Axes>"
      ]
     },
     "metadata": {
      "needs_background": "light"
     },
     "output_type": "display_data"
    },
    {
     "data": {
      "image/png": "[encoded data removed]",
      "text/plain": [
       "<Figure size 360x360 with 1 Axes>"
      ]
     },
     "metadata": {
      "needs_background": "light"
     },
     "output_type": "display_data"
    },
    {
     "data": {
      "image/png": "[encoded data removed]",
      "text/plain": [
       "<Figure size 360x360 with 1 Axes>"
      ]
     },
     "metadata": {
      "needs_background": "light"
     },
     "output_type": "display_data"
    },
    {
     "data": {
      "image/png": "[encoded data removed]",
      "text/plain": [
       "<Figure size 360x360 with 1 Axes>"
      ]
     },
     "metadata": {
      "needs_background": "light"
     },
     "output_type": "display_data"
    },
    {
     "data": {
      "image/png": "[encoded data removed]",
      "text/plain": [
       "<Figure size 360x360 with 1 Axes>"
      ]
     },
     "metadata": {
      "needs_background": "light"
     },
     "output_type": "display_data"
    },
    {
     "data": {
      "image/png": "[encoded data removed]",
      "text/plain": [
       "<Figure size 360x360 with 1 Axes>"
      ]
     },
     "metadata": {
      "needs_background": "light"
     },
     "output_type": "display_data"
    },
    {
     "data": {
      "image/png": "[encoded data removed]",
      "text/plain": [
       "<Figure size 360x360 with 1 Axes>"
      ]
     },
     "metadata": {
      "needs_background": "light"
     },
     "output_type": "display_data"
    },
    {
     "data": {
      "image/png": "[encoded data removed]",
      "text/plain": [
       "<Figure size 360x360 with 1 Axes>"
      ]
     },
     "metadata": {
      "needs_background": "light"
     },
     "output_type": "display_data"
    }
   ],
   "source": [
    "# Numeric/Continous features of our dataset\n",
    " \n",
    "numeric_features = ['Salary','Age','Base_pay','Bonus','Unit_Price','Volume','openingbalance','closingbalance','low','Unit_Sales','Total_Sales','Months']\n",
    "\n",
    "# Method Calling\n",
    "plt_numeric_dist(df_new,numeric_features)"
   ]
  },
  {
   "cell_type": "markdown",
   "id": "6ad987d1",
   "metadata": {},
   "source": [
    "##### Based on above plottings we can say that :"
   ]
  },
  {
   "cell_type": "markdown",
   "id": "f3152dde",
   "metadata": {},
   "source": [
    "###### Salary,Age,Base_pay,Bonus are Normally Distributed.Others are having Skewness."
   ]
  },
  {
   "cell_type": "markdown",
   "id": "11efb52c",
   "metadata": {},
   "source": [
    "##### We have Null  Values in Base_pay,openingbalance,Total_Sales . Base_pay is normally distributed so so iam going to replace Base_pay Null values with Mean but openingbalance and Total_Sales are skewed so i am going to replace these null values with median."
   ]
  },
  {
   "cell_type": "markdown",
   "id": "68bae237",
   "metadata": {},
   "source": [
    "### Handling Null Values :"
   ]
  },
  {
   "cell_type": "code",
   "execution_count": 184,
   "id": "252b3626",
   "metadata": {
    "scrolled": true
   },
   "outputs": [
    {
     "data": {
      "text/plain": [
       "Gender            0\n",
       "Business          0\n",
       "Dependancies      0\n",
       "Calls             0\n",
       "Type              0\n",
       "Billing           0\n",
       "Rating            0\n",
       "Age               0\n",
       "Salary            0\n",
       "Base_pay          0\n",
       "Bonus             0\n",
       "Unit_Price        0\n",
       "Volume            0\n",
       "openingbalance    0\n",
       "closingbalance    0\n",
       "low               0\n",
       "Unit_Sales        0\n",
       "Total_Sales       0\n",
       "Months            0\n",
       "Education         0\n",
       "dtype: int64"
      ]
     },
     "execution_count": 184,
     "metadata": {},
     "output_type": "execute_result"
    }
   ],
   "source": [
    "base_pay_mean = df_new['Base_pay'].mean()\n",
    "\n",
    "df_new['Base_pay'].fillna(base_pay_mean, inplace = True)\n",
    "\n",
    "opening_bal_median = df_new['openingbalance'].median()\n",
    "\n",
    "df_new['openingbalance'].fillna(opening_bal_median, inplace = True)\n",
    "\n",
    "total_sales_median = df_new['Total_Sales'].median()\n",
    "\n",
    "df_new['Total_Sales'].fillna(total_sales_median, inplace = True)\n",
    "\n",
    "df_new.isnull().sum()"
   ]
  },
  {
   "cell_type": "markdown",
   "id": "a482f403",
   "metadata": {},
   "source": [
    "### Detecting Outliers : "
   ]
  },
  {
   "cell_type": "code",
   "execution_count": 185,
   "id": "366876b2",
   "metadata": {},
   "outputs": [
    {
     "data": {
      "image/png": "[encoded data removed]",
      "text/plain": [
       "<Figure size 720x72 with 1 Axes>"
      ]
     },
     "metadata": {
      "needs_background": "light"
     },
     "output_type": "display_data"
    },
    {
     "data": {
      "image/png": "[encoded data removed]",
      "text/plain": [
       "<Figure size 720x72 with 1 Axes>"
      ]
     },
     "metadata": {
      "needs_background": "light"
     },
     "output_type": "display_data"
    },
    {
     "data": {
      "image/png": "[encoded data removed]",
      "text/plain": [
       "<Figure size 720x72 with 1 Axes>"
      ]
     },
     "metadata": {
      "needs_background": "light"
     },
     "output_type": "display_data"
    },
    {
     "data": {
      "image/png": "[encoded data removed]",
      "text/plain": [
       "<Figure size 720x72 with 1 Axes>"
      ]
     },
     "metadata": {
      "needs_background": "light"
     },
     "output_type": "display_data"
    },
    {
     "data": {
      "image/png": "[encoded data removed]",
      "text/plain": [
       "<Figure size 720x72 with 1 Axes>"
      ]
     },
     "metadata": {
      "needs_background": "light"
     },
     "output_type": "display_data"
    },
    {
     "data": {
      "image/png": "[encoded data removed]",
      "text/plain": [
       "<Figure size 720x72 with 1 Axes>"
      ]
     },
     "metadata": {
      "needs_background": "light"
     },
     "output_type": "display_data"
    },
    {
     "data": {
      "image/png": "[encoded data removed]",
      "text/plain": [
       "<Figure size 720x72 with 1 Axes>"
      ]
     },
     "metadata": {
      "needs_background": "light"
     },
     "output_type": "display_data"
    },
    {
     "data": {
      "image/png": "[encoded data removed]",
      "text/plain": [
       "<Figure size 720x72 with 1 Axes>"
      ]
     },
     "metadata": {
      "needs_background": "light"
     },
     "output_type": "display_data"
    },
    {
     "data": {
      "image/png": "[encoded data removed]",
      "text/plain": [
       "<Figure size 720x72 with 1 Axes>"
      ]
     },
     "metadata": {
      "needs_background": "light"
     },
     "output_type": "display_data"
    },
    {
     "data": {
      "image/png": "[encoded data removed]",
      "text/plain": [
       "<Figure size 720x72 with 1 Axes>"
      ]
     },
     "metadata": {
      "needs_background": "light"
     },
     "output_type": "display_data"
    },
    {
     "data": {
      "image/png": "[encoded data removed]",
      "text/plain": [
       "<Figure size 720x72 with 1 Axes>"
      ]
     },
     "metadata": {
      "needs_background": "light"
     },
     "output_type": "display_data"
    },
    {
     "data": {
      "image/png": "[encoded data removed]",
      "text/plain": [
       "<Figure size 720x72 with 1 Axes>"
      ]
     },
     "metadata": {
      "needs_background": "light"
     },
     "output_type": "display_data"
    }
   ],
   "source": [
    "#Plotting every numeric feature with box plot for checking if any outliers exists or not \n",
    "\n",
    "for column in numeric_features:\n",
    "    \n",
    "    plt.figure(figsize=(10,1))\n",
    "    \n",
    "    sns.boxplot(x=df_new[column])\n",
    "    "
   ]
  },
  {
   "cell_type": "markdown",
   "id": "7cfa1474",
   "metadata": {},
   "source": [
    "##### Here we have outliers in Salary,Age,Base_pay,Bonus,Unit_price,Volume,openingbalance,closingbalance,Low. So we need to handle these outliers."
   ]
  },
  {
   "cell_type": "markdown",
   "id": "c64f1303",
   "metadata": {},
   "source": [
    "#### Here to handle outliers i am using \"Quantile based flooring and capping\".In this technique, the outlier is capped at a certain value above the 90th percentile value or floored at a factor below the 10th percentile value."
   ]
  },
  {
   "cell_type": "markdown",
   "id": "f0b122c4",
   "metadata": {},
   "source": [
    "#### If i remove outliers it is affecting \"Education\" column so i am going to replace outliers using \"Quantile based flooring and capping\"."
   ]
  },
  {
   "cell_type": "code",
   "execution_count": 186,
   "id": "3ed013ba",
   "metadata": {},
   "outputs": [],
   "source": [
    "# keeping all outliers features names in list with a name \"outliers_num_features\"\n",
    "\n",
    "outliers_num_features = ['Salary','Age','Base_pay','Bonus','Unit_Price','Volume','openingbalance','closingbalance','low']\n",
    "\n",
    "for column in outliers_num_features:\n",
    "    \n",
    "    # Computing 10th, 90th percentiles and replacing the outliers\n",
    "    \n",
    "    tenth_percentile = np.percentile(df_new[column], 10)\n",
    "    \n",
    "    ninetieth_percentile = np.percentile(df_new[column], 90)\n",
    "    \n",
    "    df_new[column] = np.where(df_new[column]<tenth_percentile, tenth_percentile, df_new[column])\n",
    "    \n",
    "    df_new[column] = np.where(df_new[column]>ninetieth_percentile, ninetieth_percentile, df_new[column])"
   ]
  },
  {
   "cell_type": "code",
   "execution_count": 187,
   "id": "3b9ad649",
   "metadata": {},
   "outputs": [
    {
     "data": {
      "image/png": "[encoded data removed]",
      "text/plain": [
       "<Figure size 720x72 with 1 Axes>"
      ]
     },
     "metadata": {
      "needs_background": "light"
     },
     "output_type": "display_data"
    },
    {
     "data": {
      "image/png": "[encoded data removed]",
      "text/plain": [
       "<Figure size 720x72 with 1 Axes>"
      ]
     },
     "metadata": {
      "needs_background": "light"
     },
     "output_type": "display_data"
    },
    {
     "data": {
      "image/png": "[encoded data removed]",
      "text/plain": [
       "<Figure size 720x72 with 1 Axes>"
      ]
     },
     "metadata": {
      "needs_background": "light"
     },
     "output_type": "display_data"
    },
    {
     "data": {
      "image/png": "[encoded data removed]",
      "text/plain": [
       "<Figure size 720x72 with 1 Axes>"
      ]
     },
     "metadata": {
      "needs_background": "light"
     },
     "output_type": "display_data"
    },
    {
     "data": {
      "image/png": "[encoded data removed]",
      "text/plain": [
       "<Figure size 720x72 with 1 Axes>"
      ]
     },
     "metadata": {
      "needs_background": "light"
     },
     "output_type": "display_data"
    },
    {
     "data": {
      "image/png": "[encoded data removed]",
      "text/plain": [
       "<Figure size 720x72 with 1 Axes>"
      ]
     },
     "metadata": {
      "needs_background": "light"
     },
     "output_type": "display_data"
    },
    {
     "data": {
      "image/png": "[encoded data removed]",
      "text/plain": [
       "<Figure size 720x72 with 1 Axes>"
      ]
     },
     "metadata": {
      "needs_background": "light"
     },
     "output_type": "display_data"
    },
    {
     "data": {
      "image/png": "[encoded data removed]",
      "text/plain": [
       "<Figure size 720x72 with 1 Axes>"
      ]
     },
     "metadata": {
      "needs_background": "light"
     },
     "output_type": "display_data"
    },
    {
     "data": {
      "image/png": "[encoded data removed]",
      "text/plain": [
       "<Figure size 720x72 with 1 Axes>"
      ]
     },
     "metadata": {
      "needs_background": "light"
     },
     "output_type": "display_data"
    },
    {
     "data": {
      "image/png": "[encoded data removed]",
      "text/plain": [
       "<Figure size 720x72 with 1 Axes>"
      ]
     },
     "metadata": {
      "needs_background": "light"
     },
     "output_type": "display_data"
    },
    {
     "data": {
      "image/png": "[encoded data removed]",
      "text/plain": [
       "<Figure size 720x72 with 1 Axes>"
      ]
     },
     "metadata": {
      "needs_background": "light"
     },
     "output_type": "display_data"
    },
    {
     "data": {
      "image/png": "[encoded data removed]",
      "text/plain": [
       "<Figure size 720x72 with 1 Axes>"
      ]
     },
     "metadata": {
      "needs_background": "light"
     },
     "output_type": "display_data"
    }
   ],
   "source": [
    "#Checking for outliers whether they are removed or not by plotting numeric fatures again with box plot\n",
    "\n",
    "for column in numeric_features:\n",
    "    \n",
    "    plt.figure(figsize=(10,1))\n",
    "    \n",
    "    sns.boxplot(x=df_new[column])"
   ]
  },
  {
   "cell_type": "markdown",
   "id": "4f0c170b",
   "metadata": {},
   "source": [
    "#### Now we successfully removed Outliers."
   ]
  },
  {
   "cell_type": "markdown",
   "id": "31bce45a",
   "metadata": {},
   "source": [
    "### Finding Correlation for Continous Variables using \"Spearman Rank Correlation\" :"
   ]
  },
  {
   "cell_type": "markdown",
   "id": "edab28ea",
   "metadata": {},
   "source": [
    "#### Our data is not normally distributed so we have to use \"Spearman Rank Correlation\" for finding Correlation between Variables."
   ]
  },
  {
   "cell_type": "code",
   "execution_count": 188,
   "id": "b4993086",
   "metadata": {
    "scrolled": true
   },
   "outputs": [
    {
     "data": {
      "text/html": [
       "<div>\n",
       "<style scoped>\n",
       "    .dataframe tbody tr th:only-of-type {\n",
       "        vertical-align: middle;\n",
       "    }\n",
       "\n",
       "    .dataframe tbody tr th {\n",
       "        vertical-align: top;\n",
       "    }\n",
       "\n",
       "    .dataframe thead th {\n",
       "        text-align: right;\n",
       "    }\n",
       "</style>\n",
       "<table border=\"1\" class=\"dataframe\">\n",
       "  <thead>\n",
       "    <tr style=\"text-align: right;\">\n",
       "      <th></th>\n",
       "      <th>Age</th>\n",
       "      <th>Salary</th>\n",
       "      <th>Base_pay</th>\n",
       "      <th>Bonus</th>\n",
       "      <th>Unit_Price</th>\n",
       "      <th>Volume</th>\n",
       "      <th>openingbalance</th>\n",
       "      <th>closingbalance</th>\n",
       "      <th>low</th>\n",
       "      <th>Unit_Sales</th>\n",
       "      <th>Total_Sales</th>\n",
       "      <th>Months</th>\n",
       "    </tr>\n",
       "  </thead>\n",
       "  <tbody>\n",
       "    <tr>\n",
       "      <th>Age</th>\n",
       "      <td>1.000000</td>\n",
       "      <td>0.189866</td>\n",
       "      <td>0.180101</td>\n",
       "      <td>0.189866</td>\n",
       "      <td>0.120336</td>\n",
       "      <td>-0.036976</td>\n",
       "      <td>0.075442</td>\n",
       "      <td>0.449470</td>\n",
       "      <td>0.189632</td>\n",
       "      <td>0.200737</td>\n",
       "      <td>0.194856</td>\n",
       "      <td>0.222156</td>\n",
       "    </tr>\n",
       "    <tr>\n",
       "      <th>Salary</th>\n",
       "      <td>0.189866</td>\n",
       "      <td>1.000000</td>\n",
       "      <td>0.994401</td>\n",
       "      <td>1.000000</td>\n",
       "      <td>0.811171</td>\n",
       "      <td>-0.391796</td>\n",
       "      <td>0.160736</td>\n",
       "      <td>0.338386</td>\n",
       "      <td>0.999803</td>\n",
       "      <td>0.998997</td>\n",
       "      <td>0.995510</td>\n",
       "      <td>0.599362</td>\n",
       "    </tr>\n",
       "    <tr>\n",
       "      <th>Base_pay</th>\n",
       "      <td>0.180101</td>\n",
       "      <td>0.994401</td>\n",
       "      <td>1.000000</td>\n",
       "      <td>0.994401</td>\n",
       "      <td>0.808242</td>\n",
       "      <td>-0.390576</td>\n",
       "      <td>0.151367</td>\n",
       "      <td>0.331424</td>\n",
       "      <td>0.994251</td>\n",
       "      <td>0.992931</td>\n",
       "      <td>0.989458</td>\n",
       "      <td>0.592668</td>\n",
       "    </tr>\n",
       "    <tr>\n",
       "      <th>Bonus</th>\n",
       "      <td>0.189866</td>\n",
       "      <td>1.000000</td>\n",
       "      <td>0.994401</td>\n",
       "      <td>1.000000</td>\n",
       "      <td>0.811171</td>\n",
       "      <td>-0.391796</td>\n",
       "      <td>0.160736</td>\n",
       "      <td>0.338386</td>\n",
       "      <td>0.999803</td>\n",
       "      <td>0.998997</td>\n",
       "      <td>0.995510</td>\n",
       "      <td>0.599362</td>\n",
       "    </tr>\n",
       "    <tr>\n",
       "      <th>Unit_Price</th>\n",
       "      <td>0.120336</td>\n",
       "      <td>0.811171</td>\n",
       "      <td>0.808242</td>\n",
       "      <td>0.811171</td>\n",
       "      <td>1.000000</td>\n",
       "      <td>-0.324169</td>\n",
       "      <td>0.092270</td>\n",
       "      <td>0.256234</td>\n",
       "      <td>0.811794</td>\n",
       "      <td>0.810679</td>\n",
       "      <td>0.807170</td>\n",
       "      <td>0.546396</td>\n",
       "    </tr>\n",
       "    <tr>\n",
       "      <th>Volume</th>\n",
       "      <td>-0.036976</td>\n",
       "      <td>-0.391796</td>\n",
       "      <td>-0.390576</td>\n",
       "      <td>-0.391796</td>\n",
       "      <td>-0.324169</td>\n",
       "      <td>1.000000</td>\n",
       "      <td>-0.007888</td>\n",
       "      <td>-0.145645</td>\n",
       "      <td>-0.393546</td>\n",
       "      <td>-0.390955</td>\n",
       "      <td>-0.391128</td>\n",
       "      <td>-0.261688</td>\n",
       "    </tr>\n",
       "    <tr>\n",
       "      <th>openingbalance</th>\n",
       "      <td>0.075442</td>\n",
       "      <td>0.160736</td>\n",
       "      <td>0.151367</td>\n",
       "      <td>0.160736</td>\n",
       "      <td>0.092270</td>\n",
       "      <td>-0.007888</td>\n",
       "      <td>1.000000</td>\n",
       "      <td>0.256716</td>\n",
       "      <td>0.160722</td>\n",
       "      <td>0.171617</td>\n",
       "      <td>0.170206</td>\n",
       "      <td>-0.054113</td>\n",
       "    </tr>\n",
       "    <tr>\n",
       "      <th>closingbalance</th>\n",
       "      <td>0.449470</td>\n",
       "      <td>0.338386</td>\n",
       "      <td>0.331424</td>\n",
       "      <td>0.338386</td>\n",
       "      <td>0.256234</td>\n",
       "      <td>-0.145645</td>\n",
       "      <td>0.256716</td>\n",
       "      <td>1.000000</td>\n",
       "      <td>0.338177</td>\n",
       "      <td>0.346500</td>\n",
       "      <td>0.341984</td>\n",
       "      <td>0.367504</td>\n",
       "    </tr>\n",
       "    <tr>\n",
       "      <th>low</th>\n",
       "      <td>0.189632</td>\n",
       "      <td>0.999803</td>\n",
       "      <td>0.994251</td>\n",
       "      <td>0.999803</td>\n",
       "      <td>0.811794</td>\n",
       "      <td>-0.393546</td>\n",
       "      <td>0.160722</td>\n",
       "      <td>0.338177</td>\n",
       "      <td>1.000000</td>\n",
       "      <td>0.998859</td>\n",
       "      <td>0.995371</td>\n",
       "      <td>0.599327</td>\n",
       "    </tr>\n",
       "    <tr>\n",
       "      <th>Unit_Sales</th>\n",
       "      <td>0.200737</td>\n",
       "      <td>0.998997</td>\n",
       "      <td>0.992931</td>\n",
       "      <td>0.998997</td>\n",
       "      <td>0.810679</td>\n",
       "      <td>-0.390955</td>\n",
       "      <td>0.171617</td>\n",
       "      <td>0.346500</td>\n",
       "      <td>0.998859</td>\n",
       "      <td>1.000000</td>\n",
       "      <td>0.995918</td>\n",
       "      <td>0.603779</td>\n",
       "    </tr>\n",
       "    <tr>\n",
       "      <th>Total_Sales</th>\n",
       "      <td>0.194856</td>\n",
       "      <td>0.995510</td>\n",
       "      <td>0.989458</td>\n",
       "      <td>0.995510</td>\n",
       "      <td>0.807170</td>\n",
       "      <td>-0.391128</td>\n",
       "      <td>0.170206</td>\n",
       "      <td>0.341984</td>\n",
       "      <td>0.995371</td>\n",
       "      <td>0.995918</td>\n",
       "      <td>1.000000</td>\n",
       "      <td>0.598991</td>\n",
       "    </tr>\n",
       "    <tr>\n",
       "      <th>Months</th>\n",
       "      <td>0.222156</td>\n",
       "      <td>0.599362</td>\n",
       "      <td>0.592668</td>\n",
       "      <td>0.599362</td>\n",
       "      <td>0.546396</td>\n",
       "      <td>-0.261688</td>\n",
       "      <td>-0.054113</td>\n",
       "      <td>0.367504</td>\n",
       "      <td>0.599327</td>\n",
       "      <td>0.603779</td>\n",
       "      <td>0.598991</td>\n",
       "      <td>1.000000</td>\n",
       "    </tr>\n",
       "  </tbody>\n",
       "</table>\n",
       "</div>"
      ],
      "text/plain": [
       "                     Age    Salary  Base_pay     Bonus  Unit_Price    Volume  \\\n",
       "Age             1.000000  0.189866  0.180101  0.189866    0.120336 -0.036976   \n",
       "Salary          0.189866  1.000000  0.994401  1.000000    0.811171 -0.391796   \n",
       "Base_pay        0.180101  0.994401  1.000000  0.994401    0.808242 -0.390576   \n",
       "Bonus           0.189866  1.000000  0.994401  1.000000    0.811171 -0.391796   \n",
       "Unit_Price      0.120336  0.811171  0.808242  0.811171    1.000000 -0.324169   \n",
       "Volume         -0.036976 -0.391796 -0.390576 -0.391796   -0.324169  1.000000   \n",
       "openingbalance  0.075442  0.160736  0.151367  0.160736    0.092270 -0.007888   \n",
       "closingbalance  0.449470  0.338386  0.331424  0.338386    0.256234 -0.145645   \n",
       "low             0.189632  0.999803  0.994251  0.999803    0.811794 -0.393546   \n",
       "Unit_Sales      0.200737  0.998997  0.992931  0.998997    0.810679 -0.390955   \n",
       "Total_Sales     0.194856  0.995510  0.989458  0.995510    0.807170 -0.391128   \n",
       "Months          0.222156  0.599362  0.592668  0.599362    0.546396 -0.261688   \n",
       "\n",
       "                openingbalance  closingbalance       low  Unit_Sales  \\\n",
       "Age                   0.075442        0.449470  0.189632    0.200737   \n",
       "Salary                0.160736        0.338386  0.999803    0.998997   \n",
       "Base_pay              0.151367        0.331424  0.994251    0.992931   \n",
       "Bonus                 0.160736        0.338386  0.999803    0.998997   \n",
       "Unit_Price            0.092270        0.256234  0.811794    0.810679   \n",
       "Volume               -0.007888       -0.145645 -0.393546   -0.390955   \n",
       "openingbalance        1.000000        0.256716  0.160722    0.171617   \n",
       "closingbalance        0.256716        1.000000  0.338177    0.346500   \n",
       "low                   0.160722        0.338177  1.000000    0.998859   \n",
       "Unit_Sales            0.171617        0.346500  0.998859    1.000000   \n",
       "Total_Sales           0.170206        0.341984  0.995371    0.995918   \n",
       "Months               -0.054113        0.367504  0.599327    0.603779   \n",
       "\n",
       "                Total_Sales    Months  \n",
       "Age                0.194856  0.222156  \n",
       "Salary             0.995510  0.599362  \n",
       "Base_pay           0.989458  0.592668  \n",
       "Bonus              0.995510  0.599362  \n",
       "Unit_Price         0.807170  0.546396  \n",
       "Volume            -0.391128 -0.261688  \n",
       "openingbalance     0.170206 -0.054113  \n",
       "closingbalance     0.341984  0.367504  \n",
       "low                0.995371  0.599327  \n",
       "Unit_Sales         0.995918  0.603779  \n",
       "Total_Sales        1.000000  0.598991  \n",
       "Months             0.598991  1.000000  "
      ]
     },
     "execution_count": 188,
     "metadata": {},
     "output_type": "execute_result"
    }
   ],
   "source": [
    "corr = df_new.corr(method='spearman', min_periods=1)\n",
    "\n",
    "corr"
   ]
  },
  {
   "cell_type": "code",
   "execution_count": 189,
   "id": "fb14b788",
   "metadata": {},
   "outputs": [
    {
     "data": {
      "text/plain": [
       "<AxesSubplot:>"
      ]
     },
     "execution_count": 189,
     "metadata": {},
     "output_type": "execute_result"
    },
    {
     "data": {
      "image/png": "[encoded data removed]",
      "text/plain": [
       "<Figure size 864x432 with 2 Axes>"
      ]
     },
     "metadata": {
      "needs_background": "light"
     },
     "output_type": "display_data"
    }
   ],
   "source": [
    "plt.figure(figsize=(12,6))\n",
    "\n",
    "sns.heatmap(corr, annot=True)"
   ]
  },
  {
   "cell_type": "markdown",
   "id": "752da52c",
   "metadata": {},
   "source": [
    "#### Based on above heat map and corr()  of Spearman method we can conclude that :"
   ]
  },
  {
   "cell_type": "markdown",
   "id": "4c0915da",
   "metadata": {},
   "source": [
    "#### Salary has Stronger  Relationship with :\n",
    "\n",
    "Base_pay\n",
    "\n",
    "Bonus\n",
    "\n",
    "Unit_Price\n",
    "\n",
    "low\n",
    "\n",
    "Unit_Sales\n",
    "\n",
    "Total_Sales"
   ]
  },
  {
   "cell_type": "markdown",
   "id": "bf692153",
   "metadata": {},
   "source": [
    "#### Moderate Relationship with below features :\n",
    "\n",
    "Months"
   ]
  },
  {
   "cell_type": "markdown",
   "id": "6d13c00b",
   "metadata": {},
   "source": [
    "## Categorical variables :"
   ]
  },
  {
   "cell_type": "markdown",
   "id": "6e0a7389",
   "metadata": {},
   "source": [
    "### Distribution Of Data - Categorical variables :"
   ]
  },
  {
   "cell_type": "code",
   "execution_count": 190,
   "id": "51a2d831",
   "metadata": {},
   "outputs": [],
   "source": [
    "#Categorical features\n",
    "\n",
    "categoric_features = ['Gender','Business','Dependancies','Calls','Type','Billing','Rating','Education']"
   ]
  },
  {
   "cell_type": "code",
   "execution_count": 191,
   "id": "8c206dbc",
   "metadata": {},
   "outputs": [
    {
     "data": {
      "image/png": "[encoded data removed]",
      "text/plain": [
       "<Figure size 720x216 with 1 Axes>"
      ]
     },
     "metadata": {
      "needs_background": "light"
     },
     "output_type": "display_data"
    },
    {
     "data": {
      "image/png": "[encoded data removed]",
      "text/plain": [
       "<Figure size 720x216 with 1 Axes>"
      ]
     },
     "metadata": {
      "needs_background": "light"
     },
     "output_type": "display_data"
    },
    {
     "data": {
      "image/png": "[encoded data removed]",
      "text/plain": [
       "<Figure size 720x216 with 1 Axes>"
      ]
     },
     "metadata": {
      "needs_background": "light"
     },
     "output_type": "display_data"
    },
    {
     "data": {
      "image/png": "[encoded data removed]",
      "text/plain": [
       "<Figure size 720x216 with 1 Axes>"
      ]
     },
     "metadata": {
      "needs_background": "light"
     },
     "output_type": "display_data"
    },
    {
     "data": {
      "image/png": "[encoded data removed]",
      "text/plain": [
       "<Figure size 720x216 with 1 Axes>"
      ]
     },
     "metadata": {
      "needs_background": "light"
     },
     "output_type": "display_data"
    },
    {
     "data": {
      "image/png": "[encoded data removed]",
      "text/plain": [
       "<Figure size 720x216 with 1 Axes>"
      ]
     },
     "metadata": {
      "needs_background": "light"
     },
     "output_type": "display_data"
    },
    {
     "data": {
      "image/png": "[encoded data removed]",
      "text/plain": [
       "<Figure size 720x216 with 1 Axes>"
      ]
     },
     "metadata": {
      "needs_background": "light"
     },
     "output_type": "display_data"
    },
    {
     "data": {
      "image/png": "[encoded data removed]",
      "text/plain": [
       "<Figure size 720x216 with 1 Axes>"
      ]
     },
     "metadata": {
      "needs_background": "light"
     },
     "output_type": "display_data"
    }
   ],
   "source": [
    "#Plotting every categorical feature is sarying based on salary with box plot\n",
    "\n",
    "for column in categoric_features:\n",
    "    \n",
    "    plt.figure(figsize=(10,3))\n",
    "    \n",
    "    sns.boxplot(x=df_new[column],y=df_new['Salary'])\n",
    "    "
   ]
  },
  {
   "cell_type": "markdown",
   "id": "802a9b39",
   "metadata": {},
   "source": [
    "#### \"Salary\" is varying only with \"Education\" based on above box plots.So \"Salary\" is highly correlated with \"Education\"."
   ]
  },
  {
   "cell_type": "markdown",
   "id": "086ed17d",
   "metadata": {},
   "source": [
    "### Encoding Categorical Data : "
   ]
  },
  {
   "cell_type": "code",
   "execution_count": 192,
   "id": "d6bd18e5",
   "metadata": {},
   "outputs": [],
   "source": [
    "# Encoding Education using get_dummies\n",
    "\n",
    "df_new = pd.get_dummies(df_new, columns=['Education'], drop_first=True)"
   ]
  },
  {
   "cell_type": "code",
   "execution_count": 193,
   "id": "8f3ee65a",
   "metadata": {},
   "outputs": [
    {
     "name": "stdout",
     "output_type": "stream",
     "text": [
      "<class 'pandas.core.frame.DataFrame'>\n",
      "RangeIndex: 5000 entries, 0 to 4999\n",
      "Data columns (total 22 columns):\n",
      " #   Column                         Non-Null Count  Dtype  \n",
      "---  ------                         --------------  -----  \n",
      " 0   Gender                         5000 non-null   object \n",
      " 1   Business                       5000 non-null   object \n",
      " 2   Dependancies                   5000 non-null   object \n",
      " 3   Calls                          5000 non-null   object \n",
      " 4   Type                           5000 non-null   object \n",
      " 5   Billing                        5000 non-null   object \n",
      " 6   Rating                         5000 non-null   object \n",
      " 7   Age                            5000 non-null   float64\n",
      " 8   Salary                         5000 non-null   float64\n",
      " 9   Base_pay                       5000 non-null   float64\n",
      " 10  Bonus                          5000 non-null   float64\n",
      " 11  Unit_Price                     5000 non-null   float64\n",
      " 12  Volume                         5000 non-null   float64\n",
      " 13  openingbalance                 5000 non-null   float64\n",
      " 14  closingbalance                 5000 non-null   float64\n",
      " 15  low                            5000 non-null   float64\n",
      " 16  Unit_Sales                     5000 non-null   float64\n",
      " 17  Total_Sales                    5000 non-null   float64\n",
      " 18  Months                         5000 non-null   int64  \n",
      " 19  Education_High School or less  5000 non-null   uint8  \n",
      " 20  Education_Intermediate         5000 non-null   uint8  \n",
      " 21  Education_PG                   5000 non-null   uint8  \n",
      "dtypes: float64(11), int64(1), object(7), uint8(3)\n",
      "memory usage: 757.0+ KB\n"
     ]
    }
   ],
   "source": [
    "df_new.info()"
   ]
  },
  {
   "cell_type": "code",
   "execution_count": 194,
   "id": "ac08ea4b",
   "metadata": {},
   "outputs": [
    {
     "data": {
      "text/html": [
       "<div>\n",
       "<style scoped>\n",
       "    .dataframe tbody tr th:only-of-type {\n",
       "        vertical-align: middle;\n",
       "    }\n",
       "\n",
       "    .dataframe tbody tr th {\n",
       "        vertical-align: top;\n",
       "    }\n",
       "\n",
       "    .dataframe thead th {\n",
       "        text-align: right;\n",
       "    }\n",
       "</style>\n",
       "<table border=\"1\" class=\"dataframe\">\n",
       "  <thead>\n",
       "    <tr style=\"text-align: right;\">\n",
       "      <th></th>\n",
       "      <th>Salary</th>\n",
       "      <th>Base_pay</th>\n",
       "      <th>Bonus</th>\n",
       "      <th>Unit_Price</th>\n",
       "      <th>low</th>\n",
       "      <th>Unit_Sales</th>\n",
       "      <th>Total_Sales</th>\n",
       "      <th>Months</th>\n",
       "      <th>Education_High School or less</th>\n",
       "      <th>Education_Intermediate</th>\n",
       "      <th>Education_PG</th>\n",
       "    </tr>\n",
       "  </thead>\n",
       "  <tbody>\n",
       "    <tr>\n",
       "      <th>0</th>\n",
       "      <td>68550.37362</td>\n",
       "      <td>27657.468574</td>\n",
       "      <td>3427.518681</td>\n",
       "      <td>16.626999</td>\n",
       "      <td>14.149</td>\n",
       "      <td>18.25</td>\n",
       "      <td>18.80</td>\n",
       "      <td>0</td>\n",
       "      <td>1</td>\n",
       "      <td>0</td>\n",
       "      <td>0</td>\n",
       "    </tr>\n",
       "    <tr>\n",
       "      <th>1</th>\n",
       "      <td>68550.37362</td>\n",
       "      <td>27657.468574</td>\n",
       "      <td>3427.518681</td>\n",
       "      <td>16.626999</td>\n",
       "      <td>14.149</td>\n",
       "      <td>18.40</td>\n",
       "      <td>18.85</td>\n",
       "      <td>0</td>\n",
       "      <td>1</td>\n",
       "      <td>0</td>\n",
       "      <td>0</td>\n",
       "    </tr>\n",
       "    <tr>\n",
       "      <th>2</th>\n",
       "      <td>68550.37362</td>\n",
       "      <td>27657.468574</td>\n",
       "      <td>3427.518681</td>\n",
       "      <td>16.626999</td>\n",
       "      <td>14.149</td>\n",
       "      <td>18.70</td>\n",
       "      <td>18.90</td>\n",
       "      <td>0</td>\n",
       "      <td>1</td>\n",
       "      <td>0</td>\n",
       "      <td>0</td>\n",
       "    </tr>\n",
       "    <tr>\n",
       "      <th>3</th>\n",
       "      <td>68550.37362</td>\n",
       "      <td>27657.468574</td>\n",
       "      <td>3427.518681</td>\n",
       "      <td>16.626999</td>\n",
       "      <td>14.149</td>\n",
       "      <td>18.75</td>\n",
       "      <td>19.00</td>\n",
       "      <td>0</td>\n",
       "      <td>1</td>\n",
       "      <td>0</td>\n",
       "      <td>0</td>\n",
       "    </tr>\n",
       "    <tr>\n",
       "      <th>4</th>\n",
       "      <td>68550.37362</td>\n",
       "      <td>27657.468574</td>\n",
       "      <td>3427.518681</td>\n",
       "      <td>16.626999</td>\n",
       "      <td>14.149</td>\n",
       "      <td>18.80</td>\n",
       "      <td>19.05</td>\n",
       "      <td>1</td>\n",
       "      <td>1</td>\n",
       "      <td>0</td>\n",
       "      <td>0</td>\n",
       "    </tr>\n",
       "  </tbody>\n",
       "</table>\n",
       "</div>"
      ],
      "text/plain": [
       "        Salary      Base_pay        Bonus  Unit_Price     low  Unit_Sales  \\\n",
       "0  68550.37362  27657.468574  3427.518681   16.626999  14.149       18.25   \n",
       "1  68550.37362  27657.468574  3427.518681   16.626999  14.149       18.40   \n",
       "2  68550.37362  27657.468574  3427.518681   16.626999  14.149       18.70   \n",
       "3  68550.37362  27657.468574  3427.518681   16.626999  14.149       18.75   \n",
       "4  68550.37362  27657.468574  3427.518681   16.626999  14.149       18.80   \n",
       "\n",
       "   Total_Sales  Months  Education_High School or less  Education_Intermediate  \\\n",
       "0        18.80       0                              1                       0   \n",
       "1        18.85       0                              1                       0   \n",
       "2        18.90       0                              1                       0   \n",
       "3        19.00       0                              1                       0   \n",
       "4        19.05       1                              1                       0   \n",
       "\n",
       "   Education_PG  \n",
       "0             0  \n",
       "1             0  \n",
       "2             0  \n",
       "3             0  \n",
       "4             0  "
      ]
     },
     "execution_count": 194,
     "metadata": {},
     "output_type": "execute_result"
    }
   ],
   "source": [
    "#Removing unwanted columns based on above EDA steps\n",
    "\n",
    "#df_new1 is new dataframe with features those are strong or moderate correlation with salary \n",
    "\n",
    "df_new1 = df_new.drop(['Gender', 'Business','Dependancies','Calls','Type','Billing','Rating','Age','Volume','openingbalance','closingbalance'], axis = 1)\n",
    "\n",
    "df_new1.head()\n"
   ]
  },
  {
   "cell_type": "code",
   "execution_count": 195,
   "id": "bb5dcbac",
   "metadata": {},
   "outputs": [
    {
     "name": "stdout",
     "output_type": "stream",
     "text": [
      "<class 'pandas.core.frame.DataFrame'>\n",
      "RangeIndex: 5000 entries, 0 to 4999\n",
      "Data columns (total 11 columns):\n",
      " #   Column                         Non-Null Count  Dtype  \n",
      "---  ------                         --------------  -----  \n",
      " 0   Salary                         5000 non-null   float64\n",
      " 1   Base_pay                       5000 non-null   float64\n",
      " 2   Bonus                          5000 non-null   float64\n",
      " 3   Unit_Price                     5000 non-null   float64\n",
      " 4   low                            5000 non-null   float64\n",
      " 5   Unit_Sales                     5000 non-null   float64\n",
      " 6   Total_Sales                    5000 non-null   float64\n",
      " 7   Months                         5000 non-null   int64  \n",
      " 8   Education_High School or less  5000 non-null   uint8  \n",
      " 9   Education_Intermediate         5000 non-null   uint8  \n",
      " 10  Education_PG                   5000 non-null   uint8  \n",
      "dtypes: float64(7), int64(1), uint8(3)\n",
      "memory usage: 327.3 KB\n"
     ]
    }
   ],
   "source": [
    "df_new1.info()"
   ]
  },
  {
   "cell_type": "markdown",
   "id": "53a649b2",
   "metadata": {},
   "source": [
    "### Machine Learning : "
   ]
  },
  {
   "cell_type": "markdown",
   "id": "229ce84c",
   "metadata": {},
   "source": [
    "#### Splitting Dataset into 2 types :  independent and target."
   ]
  },
  {
   "cell_type": "code",
   "execution_count": 196,
   "id": "afa02734",
   "metadata": {},
   "outputs": [
    {
     "name": "stdout",
     "output_type": "stream",
     "text": [
      "            Salary      Base_pay        Bonus  Unit_Price        low  \\\n",
      "0      68550.37362  27657.468574  3427.518681   16.626999  14.149000   \n",
      "1      68550.37362  27657.468574  3427.518681   16.626999  14.149000   \n",
      "2      68550.37362  27657.468574  3427.518681   16.626999  14.149000   \n",
      "3      68550.37362  27657.468574  3427.518681   16.626999  14.149000   \n",
      "4      68550.37362  27657.468574  3427.518681   16.626999  14.149000   \n",
      "...            ...           ...          ...         ...        ...   \n",
      "4995  131232.04457  52628.605344  6561.602229   91.727001  81.302001   \n",
      "4996  131232.04457  52628.605344  6561.602229   91.727001  81.302001   \n",
      "4997  131232.04457  52628.605344  6561.602229   91.727001  81.302001   \n",
      "4998  131232.04457  52628.605344  6561.602229   91.727001  81.302001   \n",
      "4999  131232.04457  52628.605344  6561.602229   91.727001  81.302001   \n",
      "\n",
      "      Unit_Sales  Total_Sales  Months  Education_High School or less  \\\n",
      "0          18.25        18.80       0                              1   \n",
      "1          18.40        18.85       0                              1   \n",
      "2          18.70        18.90       0                              1   \n",
      "3          18.75        19.00       0                              1   \n",
      "4          18.80        19.05       1                              1   \n",
      "...          ...          ...     ...                            ...   \n",
      "4995      117.80      1395.65      72                              0   \n",
      "4996      118.60      1395.65      72                              0   \n",
      "4997      118.60      1395.65      72                              0   \n",
      "4998      118.65      1395.65      72                              0   \n",
      "4999      118.75      1395.65      72                              0   \n",
      "\n",
      "      Education_Intermediate  Education_PG  \n",
      "0                          0             0  \n",
      "1                          0             0  \n",
      "2                          0             0  \n",
      "3                          0             0  \n",
      "4                          0             0  \n",
      "...                      ...           ...  \n",
      "4995                       0             1  \n",
      "4996                       0             1  \n",
      "4997                       0             1  \n",
      "4998                       0             1  \n",
      "4999                       0             1  \n",
      "\n",
      "[5000 rows x 11 columns]\n",
      "[[2.76574686e+04 3.42751868e+03 1.66269990e+01 ... 1.00000000e+00\n",
      "  0.00000000e+00 0.00000000e+00]\n",
      " [2.76574686e+04 3.42751868e+03 1.66269990e+01 ... 1.00000000e+00\n",
      "  0.00000000e+00 0.00000000e+00]\n",
      " [2.76574686e+04 3.42751868e+03 1.66269990e+01 ... 1.00000000e+00\n",
      "  0.00000000e+00 0.00000000e+00]\n",
      " ...\n",
      " [5.26286053e+04 6.56160223e+03 9.17270010e+01 ... 0.00000000e+00\n",
      "  0.00000000e+00 1.00000000e+00]\n",
      " [5.26286053e+04 6.56160223e+03 9.17270010e+01 ... 0.00000000e+00\n",
      "  0.00000000e+00 1.00000000e+00]\n",
      " [5.26286053e+04 6.56160223e+03 9.17270010e+01 ... 0.00000000e+00\n",
      "  0.00000000e+00 1.00000000e+00]]\n",
      "[ 68550.37362  68550.37362  68550.37362 ... 131232.04457 131232.04457\n",
      " 131232.04457]\n"
     ]
    }
   ],
   "source": [
    "# X will contain all the features and y will contain the target variable\n",
    "\n",
    "# X will contain all features except Salary , Y will contain only Salary\n",
    "\n",
    "print(df_new1)\n",
    "\n",
    "# X is dataset without Salary\n",
    "\n",
    "X = df_new1.drop('Salary',axis = 1).values\n",
    "\n",
    "# y is target varible i.e., Salary.\n",
    "\n",
    "y = df_new1['Salary'].values\n",
    "\n",
    "print(X)\n",
    "\n",
    "print(y)\n"
   ]
  },
  {
   "cell_type": "markdown",
   "id": "eca2e769",
   "metadata": {},
   "source": [
    "#### Splitting X and y into test and train sets :"
   ]
  },
  {
   "cell_type": "code",
   "execution_count": 197,
   "id": "fe4cf37e",
   "metadata": {},
   "outputs": [
    {
     "name": "stdout",
     "output_type": "stream",
     "text": [
      "(3500, 10) (1500, 10) (3500,) (1500,)\n"
     ]
    }
   ],
   "source": [
    "# importing library train_test_split from sklearn.model_selection\n",
    "\n",
    "from sklearn.model_selection import train_test_split\n",
    "\n",
    "# Splitting data into test and train\n",
    "\n",
    "# We will use train_test_split from sklearn.model_selection to split our data.\n",
    "\n",
    "# 70% of the data will be training data and %30 will be testing data.\n",
    "\n",
    "X_train, X_test, y_train, y_test = train_test_split(X, y, test_size = 0.3, random_state = 100)\n",
    "\n",
    "print(X_train.shape, X_test.shape, y_train.shape, y_test.shape)"
   ]
  },
  {
   "cell_type": "markdown",
   "id": "af5e7c4a",
   "metadata": {},
   "source": [
    "### Applying ML Algorithms :"
   ]
  },
  {
   "cell_type": "markdown",
   "id": "ac20870c",
   "metadata": {},
   "source": [
    "#### Linear Regression :"
   ]
  },
  {
   "cell_type": "code",
   "execution_count": 198,
   "id": "7da138db",
   "metadata": {},
   "outputs": [
    {
     "name": "stdout",
     "output_type": "stream",
     "text": [
      "mse: 3.3973567096880557e-06\n",
      "rmse: 0.0018431919893727988\n",
      "r2_score: 1.0\n"
     ]
    }
   ],
   "source": [
    "from sklearn.linear_model import LinearRegression\n",
    "\n",
    "from sklearn.metrics import mean_squared_error\n",
    "\n",
    "from sklearn.metrics import r2_score\n",
    "\n",
    "linreg = LinearRegression()\n",
    "\n",
    "linreg.fit(X_train, y_train)\n",
    "\n",
    "linpred = linreg.predict(X_test)\n",
    "\n",
    "mse = mean_squared_error(y_test, linpred, squared=False)\n",
    "\n",
    "rmse = np.sqrt(mse)\n",
    "\n",
    "r2_scr = r2_score(y_test, linpred)\n",
    "\n",
    "print(\"mse:\",mse)\n",
    "print(\"rmse:\",rmse)\n",
    "print(\"r2_score:\",r2_scr)"
   ]
  },
  {
   "cell_type": "markdown",
   "id": "bf53a9ab",
   "metadata": {},
   "source": [
    "#### DecisionTree :"
   ]
  },
  {
   "cell_type": "code",
   "execution_count": 199,
   "id": "9f368450",
   "metadata": {},
   "outputs": [
    {
     "name": "stdout",
     "output_type": "stream",
     "text": [
      "mse: 30.828137003339872\n",
      "rmse: 5.55230915956054\n",
      "r2_score: 0.9999976222590972\n"
     ]
    }
   ],
   "source": [
    "# import the regressor\n",
    "from sklearn.tree import DecisionTreeRegressor \n",
    "\n",
    "# create a regressor object\n",
    "regressor = DecisionTreeRegressor(random_state = 0) \n",
    "  \n",
    "# fit the regressor with X and Y data\n",
    "regressor.fit(X_train, y_train)\n",
    "\n",
    "y_pred = regressor.predict(X_test)\n",
    "\n",
    "mse = mean_squared_error(y_test, y_pred, squared=False)\n",
    "\n",
    "rmse = np.sqrt(mse)\n",
    "\n",
    "r2_scr = r2_score(y_test, y_pred)\n",
    "\n",
    "print(\"mse:\",mse)\n",
    "print(\"rmse:\",rmse)\n",
    "print(\"r2_score:\",r2_scr)"
   ]
  },
  {
   "cell_type": "markdown",
   "id": "901da303",
   "metadata": {},
   "source": [
    "#### RandomForest :"
   ]
  },
  {
   "cell_type": "code",
   "execution_count": 200,
   "id": "e01651b3",
   "metadata": {},
   "outputs": [
    {
     "name": "stdout",
     "output_type": "stream",
     "text": [
      "mse: 21.743112215068432\n",
      "rmse: 4.662951020016019\n",
      "r2_score: 0.9999988171943716\n"
     ]
    }
   ],
   "source": [
    "# Fitting Random Forest Regression to the dataset\n",
    "# import the regressor\n",
    "from sklearn.ensemble import RandomForestRegressor\n",
    "  \n",
    " # create regressor object\n",
    "regressor = RandomForestRegressor(n_estimators = 100, random_state = 20)\n",
    "  \n",
    "# fit the regressor with x and y data\n",
    "regressor.fit(X_train, y_train)\n",
    "\n",
    "Y_pred1 = regressor.predict(X_test)\n",
    "\n",
    "mse1 = mean_squared_error(y_test, Y_pred1, squared=False)\n",
    "\n",
    "rmse1 = np.sqrt(mse1)\n",
    "\n",
    "r2_scr1 = r2_score(y_test, Y_pred1)\n",
    "\n",
    "print(\"mse:\",mse1)\n",
    "print(\"rmse:\",rmse1)\n",
    "print(\"r2_score:\",r2_scr1)\n"
   ]
  },
  {
   "cell_type": "markdown",
   "id": "801572a1",
   "metadata": {},
   "source": [
    "#### Based on MSE,RMSE and r2_Score, we can say that Linear Regression model is overfitted because r2_score = 1.So we can go with either Random forest Regressor or Decision Tree Regressor."
   ]
  }
 ],
 "metadata": {
  "kernelspec": {
   "display_name": "Python 3",
   "language": "python",
   "name": "python3"
  },
  "language_info": {
   "codemirror_mode": {
    "name": "ipython",
    "version": 3
   },
   "file_extension": ".py",
   "mimetype": "text/x-python",
   "name": "python",
   "nbconvert_exporter": "python",
   "pygments_lexer": "ipython3",
   "version": "3.8.8"
  }
 },
 "nbformat": 4,
 "nbformat_minor": 5
}
